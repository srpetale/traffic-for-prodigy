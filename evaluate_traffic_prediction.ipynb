{
 "cells": [
  {
   "cell_type": "code",
   "execution_count": 1,
   "metadata": {},
   "outputs": [],
   "source": [
    "from generator_based_on_Seattle import *\n",
    "from parameters import *\n",
    "from datetime import datetime"
   ]
  },
  {
   "cell_type": "code",
   "execution_count": 2,
   "metadata": {},
   "outputs": [],
   "source": [
    "# generate traffic \n",
    "\n",
    "generate_traffic_based_on_seattle(\n",
    "    from_date=FROM_DATE, \n",
    "    to_date=TO_DATE, \n",
    "    first_erlang=LAMBDA_0, \n",
    "    constant_bitrate=IS_CONSTANT_BITRATE, \n",
    "    aggregation=AGGREGATION, \n",
    "    resampling=RESAMPLING,\n",
    "    period_length=UPGRADE_PERIOD, \n",
    "    actual_traffic_folder_path=\"real\")"
   ]
  },
  {
   "cell_type": "code",
   "execution_count": 3,
   "metadata": {},
   "outputs": [],
   "source": [
    "# predict traffic\n",
    "\n",
    "time_delta = datetime.strptime(TO_DATE,\"%Y-%m-%d\") - datetime.strptime(FROM_DATE,\"%Y-%m-%d\")\n",
    "n_periods = math.floor(time_delta.days / UPGRADE_PERIOD)\n",
    "\n",
    "for current_period_start in range(0, n_periods*UPGRADE_PERIOD, UPGRADE_PERIOD):\n",
    "    perdict_traffic_for_next_period(pd.read_csv(f\"real/actual_traffic_{current_period_start}_{current_period_start+UPGRADE_PERIOD}.csv\"),predicted_traffic_alphafolder_path=\"predicted\",index=current_period_start)"
   ]
  },
  {
   "cell_type": "code",
   "execution_count": 4,
   "metadata": {},
   "outputs": [
    {
     "name": "stdout",
     "output_type": "stream",
     "text": [
      "90\n",
      "180\n",
      "270\n",
      "360\n",
      "450\n",
      "540\n",
      "630\n",
      "720\n",
      "810\n",
      "900\n",
      "990\n",
      "1080\n",
      "1170\n",
      "1260\n",
      "1350\n",
      "1440\n",
      "1530\n",
      "1620\n",
      "1710\n",
      "1800\n",
      "1890\n",
      "1980\n",
      "2070\n",
      "2160\n",
      "2250\n",
      "2340\n",
      "2430\n",
      "2520\n",
      "2610\n",
      "2700\n",
      "2790\n",
      "2880\n",
      "2970\n",
      "3060\n",
      "3150\n",
      "3240\n",
      "3330\n",
      "3420\n",
      "3510\n"
     ]
    }
   ],
   "source": [
    "n_connections_differences_overall = []\n",
    "mean_holding_time_differences_overall = []\n",
    "\n",
    "for current_period_start in range(0 + UPGRADE_PERIOD, n_periods*UPGRADE_PERIOD, UPGRADE_PERIOD):\n",
    "    print(current_period_start)\n",
    "    real_traffic = pd.read_csv(f\"real/actual_traffic_{current_period_start}_{current_period_start+UPGRADE_PERIOD}.csv\")\n",
    "    real_traffic['holding_time'] = real_traffic['departure_time'] - real_traffic['arrival_time']\n",
    "    predicted_traffic = pd.read_csv(f\"predicted/predicted_traffic_{current_period_start}_{current_period_start+UPGRADE_PERIOD}.csv\")\n",
    "    predicted_traffic['holding_time'] = predicted_traffic['departure_time'] - predicted_traffic['arrival_time']\n",
    "\n",
    "    n_connections_generated = []\n",
    "    n_connections_predicted = []\n",
    "    n_connections_differences = []\n",
    "    mean_holding_time_generated = []\n",
    "    mean_holding_time_predicted = []\n",
    "    mean_holding_time_differences = []\n",
    "    for source_node in range(14):\n",
    "        for destination_node in range(14):\n",
    "            if(source_node != destination_node):\n",
    "                generated_connections = real_traffic.loc[(real_traffic['source_id'] == source_node) & (real_traffic['destination_id'] == destination_node)]\n",
    "                predicted_connections = predicted_traffic.loc[(predicted_traffic['source_id'] == source_node) & (predicted_traffic['destination_id'] == destination_node)]\n",
    "                generated_mean_holding_time = generated_connections['holding_time'].mean()\n",
    "                predicted_mean_holding_time = predicted_connections['holding_time'].mean()\n",
    "                if(math.isnan(generated_mean_holding_time)):\n",
    "                    print(\"{} --> {}\".format(source_node,destination_node))\n",
    "                if(math.isnan(predicted_mean_holding_time)):\n",
    "                    print(\"{} --> {}\".format(source_node,destination_node))    \n",
    "\n",
    "                n_connections_generated.append(len(generated_connections))\n",
    "                n_connections_predicted.append(len(predicted_connections))\n",
    "                n_connections_differences.append(len(predicted_connections) - len(generated_connections))\n",
    "                mean_holding_time_generated.append(generated_mean_holding_time)\n",
    "                mean_holding_time_predicted.append(predicted_mean_holding_time)\n",
    "                mean_holding_time_differences.append(predicted_mean_holding_time-generated_mean_holding_time)\n",
    "\n",
    "    n_connections_differences_overall.append(n_connections_differences)\n",
    "    mean_holding_time_differences_overall.append(mean_holding_time_differences)            \n"
   ]
  },
  {
   "cell_type": "code",
   "execution_count": 5,
   "metadata": {},
   "outputs": [
    {
     "name": "stdout",
     "output_type": "stream",
     "text": [
      "n_connections diff 19.554945054945055, holding_time diff 0.33283103114374246\n",
      "n_connections diff 180.80769230769232, holding_time diff 0.38747342327489503\n",
      "n_connections diff 136.06043956043956, holding_time diff 0.3192025577255367\n",
      "n_connections diff -17.934065934065934, holding_time diff 0.4876121536345657\n",
      "n_connections diff 316.24725274725273, holding_time diff 0.3204720725987485\n",
      "n_connections diff -9.32967032967033, holding_time diff 0.21392044809369348\n",
      "n_connections diff 387.9175824175824, holding_time diff 0.38595505697327925\n",
      "n_connections diff 185.85164835164835, holding_time diff 0.5640766603796024\n",
      "n_connections diff 463.7032967032967, holding_time diff 0.2451066909303473\n",
      "n_connections diff 125.72527472527473, holding_time diff 0.29820733289728857\n",
      "n_connections diff 282.9175824175824, holding_time diff 0.1132621825730397\n",
      "n_connections diff 314.8076923076923, holding_time diff 0.284296522569384\n",
      "n_connections diff 261.5934065934066, holding_time diff 0.4229087899310017\n",
      "n_connections diff 452.3241758241758, holding_time diff 0.40015254052528054\n",
      "n_connections diff 1030.8626373626373, holding_time diff 0.23719015710485744\n",
      "n_connections diff 467.31868131868134, holding_time diff 0.3706382906828749\n",
      "n_connections diff 53.824175824175825, holding_time diff 0.40419556301628534\n",
      "n_connections diff 22.582417582417584, holding_time diff 0.13493195707157743\n",
      "n_connections diff 127.66483516483517, holding_time diff 0.4355519438333551\n",
      "n_connections diff 86.78021978021978, holding_time diff 0.25831726022524426\n",
      "n_connections diff 133.34065934065933, holding_time diff 0.3789019562689756\n",
      "n_connections diff 476.75824175824175, holding_time diff 0.19218705946162346\n",
      "n_connections diff 385.7032967032967, holding_time diff 0.3034249109698016\n",
      "n_connections diff 1290.9450549450548, holding_time diff 0.24798848742439292\n",
      "n_connections diff 6.373626373626373, holding_time diff 0.4745400736833291\n",
      "n_connections diff 1191.8296703296703, holding_time diff 0.25897781907330597\n",
      "n_connections diff 252.62087912087912, holding_time diff 0.32930057067527646\n",
      "n_connections diff 1584.8516483516485, holding_time diff 0.22532435727858022\n",
      "n_connections diff 275.86813186813185, holding_time diff 0.4051253801430089\n",
      "n_connections diff 321.96153846153845, holding_time diff 0.32872388952486026\n",
      "n_connections diff 400.1868131868132, holding_time diff 0.37875813053695373\n",
      "n_connections diff 803.3681318681319, holding_time diff 0.33075093281139356\n",
      "n_connections diff 2250.0934065934066, holding_time diff 0.3714482304188078\n",
      "n_connections diff 439.7087912087912, holding_time diff 0.2906426362146528\n",
      "n_connections diff -39.73076923076923, holding_time diff 0.3388875104706325\n",
      "n_connections diff 1678.2802197802198, holding_time diff 0.30555684653275583\n",
      "n_connections diff 733.3406593406594, holding_time diff 0.11712355744988225\n",
      "n_connections diff 1803.357142857143, holding_time diff 0.4110043776210102\n",
      "n_connections diff 1472.1043956043957, holding_time diff 0.288856384599103\n"
     ]
    }
   ],
   "source": [
    "for i in range(len(n_connections_differences_overall)):\n",
    "    print(f\"n_connections diff {np.mean(n_connections_differences_overall[i])}, holding_time diff {np.mean(mean_holding_time_differences_overall[i])}\")"
   ]
  }
 ],
 "metadata": {
  "kernelspec": {
   "display_name": "myenv",
   "language": "python",
   "name": "python3"
  },
  "language_info": {
   "codemirror_mode": {
    "name": "ipython",
    "version": 3
   },
   "file_extension": ".py",
   "mimetype": "text/x-python",
   "name": "python",
   "nbconvert_exporter": "python",
   "pygments_lexer": "ipython3",
   "version": "3.11.7"
  }
 },
 "nbformat": 4,
 "nbformat_minor": 2
}
