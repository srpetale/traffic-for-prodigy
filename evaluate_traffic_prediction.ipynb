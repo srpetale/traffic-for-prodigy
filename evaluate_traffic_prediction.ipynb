{
 "cells": [
  {
   "cell_type": "code",
   "execution_count": 1,
   "metadata": {},
   "outputs": [],
   "source": [
    "from generator_based_on_Seattle import *\n",
    "from parameters import *"
   ]
  },
  {
   "cell_type": "code",
   "execution_count": 2,
   "metadata": {},
   "outputs": [],
   "source": [
    "# generate traffic \n",
    "\n",
    "generate_traffic_based_on_seattle(\n",
    "    from_date=FROM_DATE, \n",
    "    to_date=TO_DATE, \n",
    "    first_erlang=LAMBDA_0, \n",
    "    constant_bitrate=IS_CONSTANT_BITRATE, \n",
    "    aggregation=AGGREGATION, \n",
    "    resampling=RESAMPLING)"
   ]
  },
  {
   "cell_type": "code",
   "execution_count": 3,
   "metadata": {},
   "outputs": [],
   "source": [
    "# predict three periods\n",
    "\n",
    "perdict_traffic_for_next_period(pd.read_csv('period1.csv'))\n",
    "perdict_traffic_for_next_period(pd.read_csv('period2.csv'))\n",
    "perdict_traffic_for_next_period(pd.read_csv('period3.csv'))"
   ]
  },
  {
   "cell_type": "code",
   "execution_count": 4,
   "metadata": {},
   "outputs": [],
   "source": [
    "# create files containing three periods, those that we have the generated (\"real\") and predicted traffic\n",
    "\n",
    "generated_traffic = pd.concat([pd.read_csv('period2.csv'),pd.read_csv('period3.csv'),pd.read_csv('period4.csv')])\n",
    "predicted_traffic = pd.concat([pd.read_csv('prediction_from_day_90.csv'),pd.read_csv('prediction_from_day_180.csv'),pd.read_csv('prediction_from_day_270.csv')])"
   ]
  },
  {
   "cell_type": "code",
   "execution_count": 5,
   "metadata": {},
   "outputs": [],
   "source": [
    "# add column \"holding time\"\n",
    "\n",
    "generated_traffic['holding_time'] = generated_traffic['departure_time'] - generated_traffic['arrival_time']\n",
    "predicted_traffic['holding_time'] = predicted_traffic['departure_time'] - predicted_traffic['arrival_time']"
   ]
  },
  {
   "cell_type": "code",
   "execution_count": 6,
   "metadata": {},
   "outputs": [],
   "source": [
    "# gather numbers of connections and mean holding times for s-d pairs\n",
    "\n",
    "n_connections_generated = []\n",
    "n_connections_predicted = []\n",
    "n_connections_differences = []\n",
    "mean_holding_time_generated = []\n",
    "mean_holding_time_predicted = []\n",
    "mean_holding_time_differences = []\n",
    "for source_node in range(14):\n",
    "    for destination_node in range(14):\n",
    "        if(source_node != destination_node):\n",
    "            generated_connections = generated_traffic.loc[(generated_traffic['source_id'] == source_node) & (generated_traffic['destination_id'] == destination_node)]\n",
    "            predicted_connections = predicted_traffic.loc[(predicted_traffic['source_id'] == source_node) & (predicted_traffic['destination_id'] == destination_node)]\n",
    "            generated_mean_holding_time = generated_connections['holding_time'].mean()\n",
    "            predicted_mean_holding_time = predicted_connections['holding_time'].mean()\n",
    "            if(math.isnan(generated_mean_holding_time)):\n",
    "                print(\"{} --> {}\".format(source_node,destination_node))\n",
    "            if(math.isnan(predicted_mean_holding_time)):\n",
    "                print(\"{} --> {}\".format(source_node,destination_node))    \n",
    "\n",
    "            n_connections_generated.append(len(generated_connections))\n",
    "            n_connections_predicted.append(len(predicted_connections))\n",
    "            n_connections_differences.append(len(predicted_connections) - len(generated_connections))\n",
    "            mean_holding_time_generated.append(generated_mean_holding_time)\n",
    "            mean_holding_time_predicted.append(predicted_mean_holding_time)\n",
    "            mean_holding_time_differences.append(predicted_mean_holding_time-generated_mean_holding_time)\n"
   ]
  },
  {
   "cell_type": "code",
   "execution_count": 7,
   "metadata": {},
   "outputs": [
    {
     "data": {
      "text/plain": [
       "count    182.000000\n",
       "mean      39.697802\n",
       "std       19.349987\n",
       "min       -2.000000\n",
       "25%       27.000000\n",
       "50%       40.000000\n",
       "75%       51.750000\n",
       "max       85.000000\n",
       "dtype: float64"
      ]
     },
     "execution_count": 7,
     "metadata": {},
     "output_type": "execute_result"
    }
   ],
   "source": [
    "# print statistics regarding the number of connections per s-d pair; positive number = more predicted connections than genrated (\"real\") connections –> predicted traffic overestimates\n",
    "# statistics contain the count, mean, std, quartiles, min and max\n",
    "\n",
    "pd.Series(n_connections_differences).describe()   "
   ]
  },
  {
   "cell_type": "code",
   "execution_count": 8,
   "metadata": {},
   "outputs": [
    {
     "data": {
      "text/plain": [
       "count    182.000000\n",
       "mean       0.334014\n",
       "std        0.783938\n",
       "min       -0.824488\n",
       "25%       -0.210584\n",
       "50%        0.137715\n",
       "75%        0.734020\n",
       "max        3.046193\n",
       "dtype: float64"
      ]
     },
     "execution_count": 8,
     "metadata": {},
     "output_type": "execute_result"
    }
   ],
   "source": [
    "# print statistics regarding the mean holding time per s-d pair; positive number = higher mean holding time in predicted connections than in the genrated (\"real\") connections –> predicted traffic overestimates\n",
    "# statistics contain the count, mean, std, quartiles, min and max\n",
    "\n",
    "pd.Series(mean_holding_time_differences).describe()   "
   ]
  }
 ],
 "metadata": {
  "kernelspec": {
   "display_name": "myenv",
   "language": "python",
   "name": "python3"
  },
  "language_info": {
   "codemirror_mode": {
    "name": "ipython",
    "version": 3
   },
   "file_extension": ".py",
   "mimetype": "text/x-python",
   "name": "python",
   "nbconvert_exporter": "python",
   "pygments_lexer": "ipython3",
   "version": "3.11.7"
  }
 },
 "nbformat": 4,
 "nbformat_minor": 2
}
