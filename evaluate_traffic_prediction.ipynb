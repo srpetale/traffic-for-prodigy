{
 "cells": [
  {
   "cell_type": "code",
   "execution_count": 1,
   "metadata": {},
   "outputs": [],
   "source": [
    "from generator_based_on_Seattle import *\n",
    "from parameters import *\n",
    "from datetime import datetime"
   ]
  },
  {
   "cell_type": "code",
   "execution_count": 2,
   "metadata": {},
   "outputs": [],
   "source": [
    "# generate traffic \n",
    "\n",
    "generate_traffic_based_on_seattle(\n",
    "    from_date=FROM_DATE, \n",
    "    to_date=TO_DATE, \n",
    "    first_erlang=LAMBDA_0, \n",
    "    constant_bitrate=IS_CONSTANT_BITRATE, \n",
    "    aggregation=AGGREGATION, \n",
    "    resampling=RESAMPLING,\n",
    "    period_length=UPGRADE_PERIOD)"
   ]
  },
  {
   "cell_type": "code",
   "execution_count": 3,
   "metadata": {},
   "outputs": [],
   "source": [
    "# predict traffic\n",
    "\n",
    "time_delta = datetime.strptime(TO_DATE,\"%Y-%m-%d\") - datetime.strptime(FROM_DATE,\"%Y-%m-%d\")\n",
    "n_periods = math.floor(time_delta.days / UPGRADE_PERIOD)\n",
    "\n",
    "for current_period_start in range(0 + UPGRADE_PERIOD, n_periods*UPGRADE_PERIOD, UPGRADE_PERIOD):\n",
    "    perdict_traffic_for_next_period(pd.read_csv(f\"traffic_from_day_{current_period_start}.csv\"))"
   ]
  },
  {
   "cell_type": "code",
   "execution_count": 4,
   "metadata": {},
   "outputs": [
    {
     "name": "stdout",
     "output_type": "stream",
     "text": [
      "90\n",
      "180\n",
      "270\n",
      "360\n",
      "450\n",
      "540\n",
      "630\n",
      "720\n",
      "810\n",
      "900\n",
      "990\n",
      "1080\n",
      "1170\n",
      "1260\n",
      "1350\n",
      "1440\n",
      "1530\n",
      "1620\n",
      "1710\n",
      "1800\n",
      "1890\n",
      "1980\n",
      "2070\n",
      "2160\n",
      "2250\n",
      "2340\n",
      "2430\n",
      "2520\n",
      "2610\n",
      "2700\n",
      "2790\n",
      "2880\n",
      "2970\n",
      "3060\n",
      "3150\n",
      "3240\n",
      "3330\n",
      "3420\n",
      "3510\n"
     ]
    }
   ],
   "source": [
    "n_connections_differences_overall = []\n",
    "mean_holding_time_differences_overall = []\n",
    "\n",
    "for current_period_start in range(0 + UPGRADE_PERIOD, n_periods*UPGRADE_PERIOD, UPGRADE_PERIOD):\n",
    "    print(current_period_start)\n",
    "    real_traffic = pd.read_csv(f\"traffic_from_day_{current_period_start}.csv\")\n",
    "    real_traffic['holding_time'] = real_traffic['departure_time'] - real_traffic['arrival_time']\n",
    "    predicted_traffic = pd.read_csv(f\"prediction_from_day_{current_period_start}.csv\")\n",
    "    predicted_traffic['holding_time'] = predicted_traffic['departure_time'] - predicted_traffic['arrival_time']\n",
    "\n",
    "    n_connections_generated = []\n",
    "    n_connections_predicted = []\n",
    "    n_connections_differences = []\n",
    "    mean_holding_time_generated = []\n",
    "    mean_holding_time_predicted = []\n",
    "    mean_holding_time_differences = []\n",
    "    for source_node in range(14):\n",
    "        for destination_node in range(14):\n",
    "            if(source_node != destination_node):\n",
    "                generated_connections = real_traffic.loc[(real_traffic['source_id'] == source_node) & (real_traffic['destination_id'] == destination_node)]\n",
    "                predicted_connections = predicted_traffic.loc[(predicted_traffic['source_id'] == source_node) & (predicted_traffic['destination_id'] == destination_node)]\n",
    "                generated_mean_holding_time = generated_connections['holding_time'].mean()\n",
    "                predicted_mean_holding_time = predicted_connections['holding_time'].mean()\n",
    "                if(math.isnan(generated_mean_holding_time)):\n",
    "                    print(\"{} --> {}\".format(source_node,destination_node))\n",
    "                if(math.isnan(predicted_mean_holding_time)):\n",
    "                    print(\"{} --> {}\".format(source_node,destination_node))    \n",
    "\n",
    "                n_connections_generated.append(len(generated_connections))\n",
    "                n_connections_predicted.append(len(predicted_connections))\n",
    "                n_connections_differences.append(len(predicted_connections) - len(generated_connections))\n",
    "                mean_holding_time_generated.append(generated_mean_holding_time)\n",
    "                mean_holding_time_predicted.append(predicted_mean_holding_time)\n",
    "                mean_holding_time_differences.append(predicted_mean_holding_time-generated_mean_holding_time)\n",
    "\n",
    "    n_connections_differences_overall.append(n_connections_differences)\n",
    "    mean_holding_time_differences_overall.append(mean_holding_time_differences)            \n"
   ]
  },
  {
   "cell_type": "code",
   "execution_count": 5,
   "metadata": {},
   "outputs": [
    {
     "name": "stdout",
     "output_type": "stream",
     "text": [
      "n_connections diff 6.532967032967033, holding_time diff 0.3187610205254084\n",
      "n_connections diff 3766.8076923076924, holding_time diff 0.2920564264167496\n",
      "n_connections diff 3242.0604395604396, holding_time diff 0.3366027028262374\n",
      "n_connections diff 156.06593406593407, holding_time diff 0.5431262444197618\n",
      "n_connections diff 6539.247252747253, holding_time diff 0.12888177212579593\n",
      "n_connections diff 222.67032967032966, holding_time diff 0.26650574144330447\n",
      "n_connections diff 8714.917582417582, holding_time diff 0.3242665404734491\n",
      "n_connections diff 4428.851648351649, holding_time diff 0.36019538120660477\n",
      "n_connections diff 9591.703296703297, holding_time diff 0.19030944466485913\n",
      "n_connections diff 2511.7252747252746, holding_time diff 0.2449412533703576\n",
      "n_connections diff 6571.917582417583, holding_time diff 0.2126390678497907\n",
      "n_connections diff 6992.807692307692, holding_time diff 0.39936207388993583\n",
      "n_connections diff 5933.593406593406, holding_time diff 0.3869877870963915\n",
      "n_connections diff 10744.324175824177, holding_time diff 0.3287849207290832\n",
      "n_connections diff 22283.862637362636, holding_time diff 0.2185537311949912\n",
      "n_connections diff 9284.318681318682, holding_time diff 0.5772975360914439\n",
      "n_connections diff 1099.8241758241759, holding_time diff 0.5428416953490194\n",
      "n_connections diff 132.58241758241758, holding_time diff 0.45682291860850316\n",
      "n_connections diff 3111.664835164835, holding_time diff 0.4686192453512413\n",
      "n_connections diff 2710.78021978022, holding_time diff 0.49042987223825973\n",
      "n_connections diff 2335.3406593406594, holding_time diff 0.2397734450894163\n",
      "n_connections diff 9850.758241758242, holding_time diff 0.3038119636566862\n",
      "n_connections diff 9988.703296703297, holding_time diff 0.4843025231427867\n",
      "n_connections diff 26934.945054945056, holding_time diff 0.32934064261602264\n",
      "n_connections diff 2617.3736263736264, holding_time diff 0.32081113230674746\n",
      "n_connections diff 22756.82967032967, holding_time diff 0.43111199707659226\n",
      "n_connections diff 7602.620879120879, holding_time diff 0.21191605465789712\n",
      "n_connections diff 33737.85164835165, holding_time diff 0.1951587810139399\n",
      "n_connections diff 6536.868131868132, holding_time diff 0.3704820103470833\n",
      "n_connections diff 6314.961538461538, holding_time diff 0.4218882200439914\n",
      "n_connections diff 7751.186813186813, holding_time diff 0.3216926960967718\n",
      "n_connections diff 19314.36813186813, holding_time diff 0.22792996051445108\n",
      "n_connections diff 45497.093406593405, holding_time diff 0.12153062377039425\n",
      "n_connections diff 8226.708791208792, holding_time diff 0.22578035575174768\n",
      "n_connections diff 1834.2692307692307, holding_time diff 0.3222345320811386\n",
      "n_connections diff 37113.28021978022, holding_time diff 0.3680058071258195\n",
      "n_connections diff 15925.34065934066, holding_time diff 0.41297212308777154\n",
      "n_connections diff 34209.357142857145, holding_time diff 0.3527255154962511\n",
      "n_connections diff 34114.104395604394, holding_time diff 0.6350558159979912\n"
     ]
    }
   ],
   "source": [
    "for i in range(len(n_connections_differences_overall)):\n",
    "    print(f\"n_connections diff {np.mean(n_connections_differences_overall[i])}, holding_time diff {np.mean(mean_holding_time_differences_overall[i])}\")"
   ]
  }
 ],
 "metadata": {
  "kernelspec": {
   "display_name": "myenv",
   "language": "python",
   "name": "python3"
  },
  "language_info": {
   "codemirror_mode": {
    "name": "ipython",
    "version": 3
   },
   "file_extension": ".py",
   "mimetype": "text/x-python",
   "name": "python",
   "nbconvert_exporter": "python",
   "pygments_lexer": "ipython3",
   "version": "3.11.7"
  }
 },
 "nbformat": 4,
 "nbformat_minor": 2
}
